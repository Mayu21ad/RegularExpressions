{
  "nbformat": 4,
  "nbformat_minor": 0,
  "metadata": {
    "colab": {
      "provenance": []
    },
    "kernelspec": {
      "name": "python3",
      "display_name": "Python 3"
    },
    "language_info": {
      "name": "python"
    }
  },
  "cells": [
    {
      "cell_type": "code",
      "execution_count": 1,
      "metadata": {
        "id": "ur5jGDm3fyCo"
      },
      "outputs": [],
      "source": [
        "import re"
      ]
    },
    {
      "cell_type": "code",
      "source": [
        "a = \"10563427, make codes, (123)-826-554\"\n",
        "b = \"hello, (123)-826-554\"\n",
        "c = \"1234, trick\""
      ],
      "metadata": {
        "id": "4P5wckO9f40z"
      },
      "execution_count": 9,
      "outputs": []
    },
    {
      "cell_type": "code",
      "source": [
        "pattern1 = '\\d{7}'\n",
        "x = re.findall(pattern1, a)\n",
        "x"
      ],
      "metadata": {
        "colab": {
          "base_uri": "https://localhost:8080/"
        },
        "id": "LFhMSKHlwG6b",
        "outputId": "65c5a79c-c1ae-422b-d231-683414c91526"
      },
      "execution_count": 10,
      "outputs": [
        {
          "output_type": "execute_result",
          "data": {
            "text/plain": [
              "['1056342']"
            ]
          },
          "metadata": {},
          "execution_count": 10
        }
      ]
    },
    {
      "cell_type": "code",
      "source": [
        "pattern2 = '\\(\\d{3}\\)'\n",
        "y = re.findall(pattern2, b)\n",
        "y"
      ],
      "metadata": {
        "colab": {
          "base_uri": "https://localhost:8080/"
        },
        "id": "ofbPCplYwqx6",
        "outputId": "90041a69-3cbc-441e-bf94-33e38cfb2cb3"
      },
      "execution_count": 11,
      "outputs": [
        {
          "output_type": "execute_result",
          "data": {
            "text/plain": [
              "['(123)']"
            ]
          },
          "metadata": {},
          "execution_count": 11
        }
      ]
    },
    {
      "cell_type": "code",
      "source": [
        "pattern3 = '\\d{7}|\\(\\d{3}\\)'\n",
        "z = re.findall(pattern3, a)\n",
        "z"
      ],
      "metadata": {
        "colab": {
          "base_uri": "https://localhost:8080/"
        },
        "id": "12Na6Kz4yBWE",
        "outputId": "cd7483ea-b41c-4b7a-c75e-2fc30851d1a9"
      },
      "execution_count": 13,
      "outputs": [
        {
          "output_type": "execute_result",
          "data": {
            "text/plain": [
              "['1056342', '(123)']"
            ]
          },
          "metadata": {},
          "execution_count": 13
        }
      ]
    },
    {
      "cell_type": "code",
      "source": [
        "d = \"abc_123@gmail.com\"\n",
        "pattern4 = '[a-z0-9A-Z_]*@[a-z0-9A-Z]*\\.[a-zA-Z]*'\n",
        "matches = re.findall(pattern4, d)\n",
        "# email = matches[0]\n",
        "# email\n",
        "matches"
      ],
      "metadata": {
        "colab": {
          "base_uri": "https://localhost:8080/"
        },
        "id": "B36a6ZV3ykT9",
        "outputId": "c9fda85a-ecd0-43fc-bb51-417d58913850"
      },
      "execution_count": 17,
      "outputs": [
        {
          "output_type": "execute_result",
          "data": {
            "text/plain": [
              "['abc_123@gmail.com']"
            ]
          },
          "metadata": {},
          "execution_count": 17
        }
      ]
    },
    {
      "cell_type": "code",
      "source": [
        "e = \"order # 123456\"\n",
        "pattern5 = 'order[^\\d]*\\d*'\n",
        "the_order = re.findall(pattern5, e)\n",
        "pattern6 = 'order[^\\d]*(\\d*)'\n",
        "the_num = re.findall(pattern6, e)\n",
        "print(the_order)\n",
        "print(the_num)"
      ],
      "metadata": {
        "colab": {
          "base_uri": "https://localhost:8080/"
        },
        "id": "DXOFqMFf1H8U",
        "outputId": "5ddace92-c4dc-4da5-eabe-697ce6bf474d"
      },
      "execution_count": 19,
      "outputs": [
        {
          "output_type": "stream",
          "name": "stdout",
          "text": [
            "['order # 123456']\n",
            "['123456']\n"
          ]
        }
      ]
    }
  ]
}